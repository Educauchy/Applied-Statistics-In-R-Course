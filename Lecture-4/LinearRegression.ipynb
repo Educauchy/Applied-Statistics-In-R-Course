{
 "cells": [
  {
   "cell_type": "markdown",
   "metadata": {},
   "source": [
    "# Linear regression\n",
    "There are several hypothesis we need to test.\n",
    "\n",
    "Settings and libraries loading:"
   ]
  },
  {
   "cell_type": "code",
   "execution_count": null,
   "metadata": {},
   "outputs": [],
   "source": [
    "Sys.setlocale(category = \"LC_ALL\", locale = \"UTF-8\")\n",
    "path <- \"~/Yandex.Disk.localized/Университет/Магистратура/2semester/R/Lecture-4/Datasets/\"\n",
    "\n",
    "require(car)\n",
    "require(MASS)"
   ]
  },
  {
   "cell_type": "markdown",
   "metadata": {},
   "source": [
    "## Blood"
   ]
  },
  {
   "cell_type": "code",
   "execution_count": null,
   "metadata": {},
   "outputs": [],
   "source": [
    "blood <- read.csv(file = paste0(path, \"blood.csv\"), header = T, col.names = c(\"pressure\", \"age\", \"weight\"), dec = \".\", sep = \";\")\n"
   ]
  },
  {
   "cell_type": "markdown",
   "metadata": {},
   "source": []
  },
  {
   "cell_type": "code",
   "execution_count": null,
   "metadata": {},
   "outputs": [],
   "source": []
  },
  {
   "cell_type": "code",
   "execution_count": null,
   "metadata": {},
   "outputs": [],
   "source": []
  }
 ],
 "metadata": {
  "kernelspec": {
   "display_name": "R",
   "language": "R",
   "name": "ir"
  }
 },
 "nbformat": 4,
 "nbformat_minor": 2
}
